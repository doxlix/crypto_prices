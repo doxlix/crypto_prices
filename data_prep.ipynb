{
 "cells": [
  {
   "cell_type": "code",
   "execution_count": null,
   "id": "afe76f16-fc23-4df3-bbe9-3bc966dcf906",
   "metadata": {},
   "outputs": [],
   "source": [
    "import pandas as pd"
   ]
  },
  {
   "cell_type": "code",
   "execution_count": null,
   "id": "2d450ee7-feb3-4589-9570-70bb735ce5e5",
   "metadata": {},
   "outputs": [],
   "source": [
    "data = pd.read_csv('CoinMarketCap all coins.csv', parse_dates=['timestamp', 'timeOpen', 'timeClose', 'timeHigh', 'timeLow'])"
   ]
  },
  {
   "cell_type": "code",
   "execution_count": null,
   "id": "e609fe1a-fb05-4961-a44a-7fe7e6dc9473",
   "metadata": {
    "scrolled": true
   },
   "outputs": [],
   "source": [
    "def find_high_low_values_for_coins(data):\n",
    "    results = []\n",
    "\n",
    "    # Group the data by 'symbol' and iterate through each group\n",
    "    for symbol, group in data.groupby('symbol'):\n",
    "        highest_high_row = group.loc[group['high'].idxmax()]\n",
    "\n",
    "        # Find the rows after the highest high within this group\n",
    "        rows_after_highest = group[group['timeLow'] > highest_high_row['timeHigh']]\n",
    "\n",
    "        # If there are rows after the highest high, find the lowest 'low'\n",
    "        if not rows_after_highest.empty:\n",
    "            lowest_low_row = rows_after_highest.loc[rows_after_highest['low'].idxmin()]\n",
    "            first_price = group.iloc[0]\n",
    "            last_price = group.iloc[-1]\n",
    "            results.append({\n",
    "                'symbol': symbol,\n",
    "                'highest_high_value': highest_high_row['high'],\n",
    "                'highest_high_date': highest_high_row['timeHigh'],\n",
    "                'lowest_low_value_after_highest': lowest_low_row['low'],\n",
    "                'lowest_low_date_after_highest': lowest_low_row['timeLow'],\n",
    "                'first_known_price': first_price['open'],\n",
    "                'first_known_date': first_price['timeOpen'],\n",
    "                'last_known_price': last_price['close'],\n",
    "                'last_known_date': last_price['timeClose']\n",
    "            })\n",
    "\n",
    "    return results\n",
    "\n",
    "result_per_coin = find_high_low_values_for_coins(data)\n",
    "\n"
   ]
  },
  {
   "cell_type": "code",
   "execution_count": null,
   "id": "fcb3f526-b1cf-4770-8232-13ce54aa6ae7",
   "metadata": {},
   "outputs": [],
   "source": [
    "x = pd.DataFrame(result_per_coin)\n",
    "\n",
    "x.rename(columns={'symbol':'name', \n",
    "                  'highest_high_value':'high',\n",
    "                  'highest_high_date':'hdate',\n",
    "                  'lowest_low_value_after_highest':'low',\n",
    "                  'lowest_low_date_after_highest':'ldate',\n",
    "                  'first_known_price':'first_price',\n",
    "                  'first_known_date':'first_date',\n",
    "                  'last_known_price':'last_price',\n",
    "                  'last_known_date':'last_date'}, inplace=True)\n",
    "\n",
    "x = x[(x['high'] > 0) & (x['low'] > 0)]\n",
    "\n",
    "x = x[~(x['low'] >= x['last_price'])]\n",
    "\n",
    "x.reset_index(inplace=True, drop=True)"
   ]
  },
  {
   "cell_type": "code",
   "execution_count": null,
   "id": "2db65aae-54d8-4118-a29a-adcfa678547d",
   "metadata": {},
   "outputs": [],
   "source": [
    "x[(x['last_date'] - x['first_date']) < pd.Timedelta('30 days')]"
   ]
  },
  {
   "cell_type": "code",
   "execution_count": null,
   "id": "8d18363b-e34f-4d44-a5fb-a40ebd5f4e20",
   "metadata": {},
   "outputs": [],
   "source": [
    "h = pd.DataFrame()"
   ]
  },
  {
   "cell_type": "code",
   "execution_count": null,
   "id": "7e241c5d-ee49-42b2-852b-8849bed8ca6d",
   "metadata": {},
   "outputs": [],
   "source": [
    "h['name'] = x['name']"
   ]
  },
  {
   "cell_type": "code",
   "execution_count": null,
   "id": "02222cb1-2d60-4f39-872b-66aba8658aca",
   "metadata": {},
   "outputs": [],
   "source": [
    "h['HL_delta'] = (x['high'] - x['low'])/x['high']"
   ]
  },
  {
   "cell_type": "code",
   "execution_count": null,
   "id": "bd3b954b-9308-4c6d-9886-dd38b5328424",
   "metadata": {},
   "outputs": [],
   "source": [
    "h['LC_delta'] = (x['last_price'] - x['low'])/x['low']"
   ]
  },
  {
   "cell_type": "code",
   "execution_count": null,
   "id": "8bfec6ee-1572-4b42-b97c-8863be8b4885",
   "metadata": {},
   "outputs": [],
   "source": [
    "h['HL_time_delta'] = x['ldate'] - x['hdate']"
   ]
  },
  {
   "cell_type": "code",
   "execution_count": null,
   "id": "18f0e7cb-fe55-4932-95b8-719d4b507f28",
   "metadata": {},
   "outputs": [],
   "source": [
    "h['LC_time_delta'] = x['last_date'] - x['ldate']"
   ]
  },
  {
   "cell_type": "code",
   "execution_count": null,
   "id": "1f012de9-ead9-4f5b-b6ae-0cb6b4c52e61",
   "metadata": {},
   "outputs": [],
   "source": [
    "h.to_csv('HL_LC_data.csv', index_label='Id')"
   ]
  },
  {
   "cell_type": "code",
   "execution_count": null,
   "id": "076385e3-7806-4206-b7a8-d393521f54a3",
   "metadata": {},
   "outputs": [],
   "source": []
  }
 ],
 "metadata": {
  "kernelspec": {
   "display_name": "Python 3 (ipykernel)",
   "language": "python",
   "name": "python3"
  },
  "language_info": {
   "codemirror_mode": {
    "name": "ipython",
    "version": 3
   },
   "file_extension": ".py",
   "mimetype": "text/x-python",
   "name": "python",
   "nbconvert_exporter": "python",
   "pygments_lexer": "ipython3",
   "version": "3.11.3"
  }
 },
 "nbformat": 4,
 "nbformat_minor": 5
}
