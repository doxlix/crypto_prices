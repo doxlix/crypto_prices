{
 "cells": [
  {
   "cell_type": "code",
   "execution_count": null,
   "id": "789692ce-86f6-428b-ae8d-530d9bc683ca",
   "metadata": {},
   "outputs": [],
   "source": [
    "import requests\n",
    "import pandas as pd\n",
    "from datetime import datetime"
   ]
  },
  {
   "cell_type": "code",
   "execution_count": null,
   "id": "39452571-a065-4295-9d7a-4fce0706c8d2",
   "metadata": {},
   "outputs": [],
   "source": [
    "def parse_to_list(resp_json):\n",
    "    \"\"\"\n",
    "    Parses the given JSON response containing cryptocurrency data into a list of dictionaries.\n",
    "    \n",
    "    Args:\n",
    "        resp_json (dict): The JSON response containing cryptocurrency data.\n",
    "        \n",
    "    Returns:\n",
    "        list: A list of dictionaries representing parsed cryptocurrency data.\n",
    "    \"\"\"\n",
    "    # Initialize an empty list to store the parsed data\n",
    "    result = []\n",
    "    \n",
    "    # Extract relevant information from the response JSON\n",
    "    data = resp_json['data']\n",
    "    id = data['id']\n",
    "    name = data['name']\n",
    "    symbol = data['symbol']\n",
    "    \n",
    "    # Iterate through each quote in the 'quotes' list\n",
    "    for quote in data['quotes']:\n",
    "        # Extract the 'quote' dictionary from the current quote\n",
    "        quote_data = quote['quote']\n",
    "        \n",
    "        # Create a dictionary to hold the parsed entry\n",
    "        entry = {\n",
    "            'id': id,\n",
    "            'name': name,\n",
    "            'symbol': symbol,\n",
    "            \n",
    "            # Merge the 'quote_data' dictionary (quote) with the rest of the quote data\n",
    "            **quote_data,\n",
    "            \n",
    "            # Convert timestamp-related fields to datetime objects\n",
    "            'timestamp': datetime.strptime(quote_data['timestamp'], '%Y-%m-%dT%H:%M:%S.%fZ'),\n",
    "            'timeOpen': datetime.strptime(quote['timeOpen'], '%Y-%m-%dT%H:%M:%S.%fZ'),\n",
    "            'timeClose': datetime.strptime(quote['timeClose'], '%Y-%m-%dT%H:%M:%S.%fZ'),\n",
    "            'timeHigh': datetime.strptime(quote['timeHigh'], '%Y-%m-%dT%H:%M:%S.%fZ'),\n",
    "            'timeLow': datetime.strptime(quote['timeLow'], '%Y-%m-%dT%H:%M:%S.%fZ')\n",
    "        }\n",
    "        \n",
    "        # Add the parsed entry to the result list\n",
    "        result.append(entry)\n",
    "    \n",
    "    # Return the list of parsed data\n",
    "    return result\n"
   ]
  },
  {
   "cell_type": "code",
   "execution_count": null,
   "id": "d884bcf9-e3e5-47ca-9349-90df0cab9d3e",
   "metadata": {
    "scrolled": true
   },
   "outputs": [],
   "source": [
    "coins = {}\n",
    "data_available = {}\n",
    "total_list = [] \n",
    "for id in range(1, 5):\n",
    "    time_start = 1262304000\n",
    "    time_end = 1893456000\n",
    "    interval = '30d'\n",
    "    url = f\"https://api.coinmarketcap.com/data-api/v3.1/cryptocurrency/historical?id={id}&convertId=2781&timeStart={time_start}&timeEnd={time_end}&interval={interval}\"\n",
    "    headers = {}\n",
    "    \n",
    "    resp = requests.get(url, headers=headers).json()\n",
    "    print(id)\n",
    "    if 'data' in resp:\n",
    "        coin_data = resp['data']\n",
    "        coin_name = coin_data.get('name')\n",
    "        coin_quotes = coin_data.get('quotes')\n",
    "    else:\n",
    "        coin_name = None\n",
    "        coin_quotes = False\n",
    "        \n",
    "    coins[id] = coin_name\n",
    "    data_available[id] = bool(coin_quotes)\n",
    "    if coin_quotes:\n",
    "        total_list.extend(parse_to_list(resp))\n",
    "\n"
   ]
  },
  {
   "cell_type": "code",
   "execution_count": null,
   "id": "8aafb5cf-0069-4800-bc76-418fab17d021",
   "metadata": {
    "scrolled": true
   },
   "outputs": [],
   "source": [
    "c = 0\n",
    "for i, k in zip(coins.values(), data_available.values()):\n",
    "    if k:\n",
    "        c += 1\n",
    "print(f'_____________\\nTotal: {c}/{len(data_available)}\\n{round(c/len(data_available), 4)*100}%')"
   ]
  },
  {
   "cell_type": "code",
   "execution_count": null,
   "id": "b875cc33-b531-48aa-b886-b931e34bef23",
   "metadata": {},
   "outputs": [],
   "source": [
    "pd.DataFrame(total_list).to_csv('CoinMarketCap all coins.csv', index=False)"
   ]
  }
 ],
 "metadata": {
  "kernelspec": {
   "display_name": "Python 3 (ipykernel)",
   "language": "python",
   "name": "python3"
  },
  "language_info": {
   "codemirror_mode": {
    "name": "ipython",
    "version": 3
   },
   "file_extension": ".py",
   "mimetype": "text/x-python",
   "name": "python",
   "nbconvert_exporter": "python",
   "pygments_lexer": "ipython3",
   "version": "3.11.3"
  }
 },
 "nbformat": 4,
 "nbformat_minor": 5
}
